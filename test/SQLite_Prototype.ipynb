{
 "cells": [
  {
   "cell_type": "code",
   "execution_count": 1,
   "metadata": {
    "collapsed": true,
    "deletable": true,
    "editable": true
   },
   "outputs": [],
   "source": [
    "import pandas as pd\n",
    "from sqlalchemy import create_engine # database connection\n",
    "import datetime as dt\n",
    "from IPython.display import display\n",
    "\n",
    "import plotly.plotly as py # interactive graphing\n",
    "from plotly.graph_objs import Bar, Scatter, Marker, Layout "
   ]
  },
  {
   "cell_type": "code",
   "execution_count": 2,
   "metadata": {
    "collapsed": true,
    "deletable": true,
    "editable": true
   },
   "outputs": [],
   "source": [
    "import yummly\n",
    "import requests\n",
    "import ujson as uj"
   ]
  },
  {
   "cell_type": "code",
   "execution_count": 3,
   "metadata": {
    "collapsed": true,
    "deletable": true,
    "editable": true
   },
   "outputs": [],
   "source": [
    "# default option values\n",
    "TIMEOUT = 15.0\n",
    "RETRIES = 2\n",
    "\n",
    "# Yummly mjboothaus Account: Hackathon Plan - Access granted 24 July 2017\n",
    "\n",
    "API_ID = 'b4f167ed'\n",
    "API_KEY = 'f69184af19beb4b76e7b7b1984046581'"
   ]
  },
  {
   "cell_type": "code",
   "execution_count": 4,
   "metadata": {
    "collapsed": true,
    "deletable": true,
    "editable": true
   },
   "outputs": [],
   "source": [
    "db_name = 'recipes_yummly.db'"
   ]
  },
  {
   "cell_type": "code",
   "execution_count": 5,
   "metadata": {
    "collapsed": true,
    "deletable": true,
    "editable": true
   },
   "outputs": [],
   "source": [
    "disk_engine = create_engine('sqlite:///' + db_name) # Initializes database with filename 311_8M.db in current directory"
   ]
  },
  {
   "cell_type": "code",
   "execution_count": 6,
   "metadata": {
    "collapsed": false,
    "deletable": true,
    "editable": true
   },
   "outputs": [
    {
     "data": {
      "text/plain": [
       "'sqlite'"
      ]
     },
     "execution_count": 6,
     "metadata": {},
     "output_type": "execute_result"
    }
   ],
   "source": [
    "disk_engine.name"
   ]
  },
  {
   "cell_type": "code",
   "execution_count": 7,
   "metadata": {
    "collapsed": false,
    "deletable": true,
    "editable": true
   },
   "outputs": [
    {
     "data": {
      "text/plain": [
       "sqlite:///recipes_yummly.db"
      ]
     },
     "execution_count": 7,
     "metadata": {},
     "output_type": "execute_result"
    }
   ],
   "source": [
    "disk_engine.url"
   ]
  },
  {
   "cell_type": "code",
   "execution_count": 24,
   "metadata": {
    "collapsed": false,
    "deletable": true,
    "editable": true
   },
   "outputs": [
    {
     "name": "stdout",
     "output_type": "stream",
     "text": [
      "NLP_in_Python_PatrickHarrison.ipynb  TestYummly.py\r\n",
      "SQLite_Prototype.ipynb\t\t     YummlyExperiments.ipynb\r\n"
     ]
    }
   ],
   "source": [
    "!ls"
   ]
  },
  {
   "cell_type": "markdown",
   "metadata": {
    "deletable": true,
    "editable": true
   },
   "source": [
    "### Subset of recipes from Yummly query"
   ]
  },
  {
   "cell_type": "code",
   "execution_count": 25,
   "metadata": {
    "collapsed": true,
    "deletable": true,
    "editable": true
   },
   "outputs": [],
   "source": [
    "        # params = dict()\n",
    "        #\n",
    "        # params['q'] = search_terms\n",
    "        # params['start'] = 0\n",
    "        # params['maxResult'] = 10\n",
    "        # params['requirePicutres'] = True\n",
    "        # params['allowedIngredient[]'] = ['salt']\n",
    "        # params['excludedIngredient[]'] = ['']\n",
    "        # params['maxTotalTimeInSeconds'] = 3600\n",
    "        # params['facetField[]'] = ['ingredient', 'diet']\n",
    "        # params['flavor.meaty.min'] = 0.5\n",
    "        # params['flavor.meaty.max'] = 1\n",
    "        # params['flavor.sweet.min'] = 0\n",
    "        # params['flavor.sweet.max'] = 0.5\n",
    "        # params['nutrition.FAT.min'] = 0\n",
    "        # params['nutrition.FAT.max'] = 15\n",
    "        #\n",
    "        # search = client.search(**params)"
   ]
  },
  {
   "cell_type": "code",
   "execution_count": 26,
   "metadata": {
    "collapsed": true,
    "deletable": true,
    "editable": true
   },
   "outputs": [],
   "source": [
    "# Yummly API info - see https://github.com/dgilland/yummly.py\n",
    "\n",
    "client = yummly.Client(api_id = API_ID,\n",
    "                       api_key = API_KEY,\n",
    "                       timeout = TIMEOUT,\n",
    "                       retries = RETRIES)"
   ]
  },
  {
   "cell_type": "code",
   "execution_count": 29,
   "metadata": {
    "collapsed": false
   },
   "outputs": [
    {
     "data": {
      "text/plain": [
       "'http://api.yummly.com/v1/api/recipe/'"
      ]
     },
     "execution_count": 29,
     "metadata": {},
     "output_type": "execute_result"
    }
   ],
   "source": [
    "client.URL_GET"
   ]
  },
  {
   "cell_type": "code",
   "execution_count": 32,
   "metadata": {
    "collapsed": true,
    "deletable": true,
    "editable": true
   },
   "outputs": [],
   "source": [
    "search_terms = 'apple'"
   ]
  },
  {
   "cell_type": "code",
   "execution_count": 33,
   "metadata": {
    "collapsed": true
   },
   "outputs": [],
   "source": [
    "params = {\n",
    "    'q': search_terms,\n",
    "    'allowedCuisine': 'American'\n",
    "}"
   ]
  },
  {
   "cell_type": "code",
   "execution_count": 34,
   "metadata": {
    "collapsed": false
   },
   "outputs": [],
   "source": [
    "try:\n",
    "    search_results = client.search(**params)\n",
    "except:\n",
    "    'Yummly query failed'\n",
    "    # print search"
   ]
  },
  {
   "cell_type": "code",
   "execution_count": 35,
   "metadata": {
    "collapsed": false,
    "deletable": true,
    "editable": true
   },
   "outputs": [],
   "source": [
    "totalMatchCount = search_results['totalMatchCount']"
   ]
  },
  {
   "cell_type": "code",
   "execution_count": 36,
   "metadata": {
    "collapsed": false
   },
   "outputs": [
    {
     "data": {
      "text/plain": [
       "103215"
      ]
     },
     "execution_count": 36,
     "metadata": {},
     "output_type": "execute_result"
    }
   ],
   "source": [
    "totalMatchCount"
   ]
  },
  {
   "cell_type": "code",
   "execution_count": 43,
   "metadata": {
    "collapsed": false,
    "deletable": true,
    "editable": true
   },
   "outputs": [
    {
     "name": "stdout",
     "output_type": "stream",
     "text": [
      "Recipe # 0 Baked Apple Pie Roll Ups : Baked-Apple-Pie-Roll-Ups-593599\n",
      "Recipe # 1 Fried Apples : Fried-Apples-1073544\n",
      "Recipe # 2 Baked Apple Chips : Baked-Apple-Chips-1059963\n",
      "Recipe # 3 Baked Apple Chips : Baked-Apple-Chips-1069913\n",
      "Recipe # 4 Apple Roses : Apple-Roses-1333707\n",
      "Recipe # 5 Fresh Apple So : Fresh-Apple-So-723007\n",
      "Recipe # 6 Perfect Apple Pie : Perfect-Apple-Pie-1896561\n",
      "Recipe # 7 Grandpa’s Healthy Apple Cinnamon Pancakes : Grandpas-Healthy-Apple-Cinnamon-Pancakes-2183806\n",
      "Recipe # 8 Apple Crisp : Apple-Crisp-2125360\n",
      "Recipe # 9 Caramel Apple Nachos : Caramel-Apple-Nachos-1274585\n",
      "Recipe # 10 Apple Coffee Cake : Apple-Coffee-Cake-2183472\n"
     ]
    }
   ],
   "source": [
    "for i, match in enumerate(search_results.matches):\n",
    "    recipe = client.recipe(match.id)\n",
    "    print 'Recipe # ' + str(i) + ' ' + recipe.name + ' : ' + recipe.id\n",
    "    if i == 10:\n",
    "        break"
   ]
  },
  {
   "cell_type": "code",
   "execution_count": 46,
   "metadata": {
    "collapsed": true
   },
   "outputs": [],
   "source": [
    "id = 'Caramel-Apple-Nachos-1274585'"
   ]
  },
  {
   "cell_type": "code",
   "execution_count": 47,
   "metadata": {
    "collapsed": true
   },
   "outputs": [],
   "source": [
    "recipe = client.recipe(id)"
   ]
  },
  {
   "cell_type": "code",
   "execution_count": 51,
   "metadata": {
    "collapsed": false
   },
   "outputs": [
    {
     "data": {
      "text/plain": [
       "[u'two green granny smith apples, cored and sliced',\n",
       " u'5 oz. caramel',\n",
       " u'1 teaspoon water',\n",
       " u'1/4 cup chopped peanuts',\n",
       " u'2 Tablespoons mini chocolate chips']"
      ]
     },
     "execution_count": 51,
     "metadata": {},
     "output_type": "execute_result"
    }
   ],
   "source": [
    "recipe.ingredientLines"
   ]
  },
  {
   "cell_type": "markdown",
   "metadata": {},
   "source": [
    "### Now try and stuff into Pandas then into SQLite"
   ]
  },
  {
   "cell_type": "code",
   "execution_count": 52,
   "metadata": {
    "collapsed": false
   },
   "outputs": [
    {
     "data": {
      "text/plain": [
       "yummly.models.SearchResult"
      ]
     },
     "execution_count": 52,
     "metadata": {},
     "output_type": "execute_result"
    }
   ],
   "source": [
    "type(search_results)"
   ]
  },
  {
   "cell_type": "code",
   "execution_count": 54,
   "metadata": {
    "collapsed": false
   },
   "outputs": [
    {
     "data": {
      "text/plain": [
       "['matches', 'totalMatchCount', 'attribution', 'facetCounts', 'criteria']"
      ]
     },
     "execution_count": 54,
     "metadata": {},
     "output_type": "execute_result"
    }
   ],
   "source": [
    "search_results.keys()"
   ]
  },
  {
   "cell_type": "code",
   "execution_count": 55,
   "metadata": {
    "collapsed": false
   },
   "outputs": [
    {
     "data": {
      "text/plain": [
       "['totalTime',\n",
       " 'rating',\n",
       " 'attribution',\n",
       " 'totalTimeInSeconds',\n",
       " 'ingredientLines',\n",
       " 'numberOfServings',\n",
       " 'flavors',\n",
       " 'source',\n",
       " 'yields',\n",
       " 'images',\n",
       " 'attributes',\n",
       " 'nutritionEstimates',\n",
       " 'id',\n",
       " 'name']"
      ]
     },
     "execution_count": 55,
     "metadata": {},
     "output_type": "execute_result"
    }
   ],
   "source": [
    "recipe.keys()"
   ]
  },
  {
   "cell_type": "code",
   "execution_count": null,
   "metadata": {
    "collapsed": true
   },
   "outputs": [],
   "source": []
  },
  {
   "cell_type": "code",
   "execution_count": null,
   "metadata": {
    "collapsed": true
   },
   "outputs": [],
   "source": []
  },
  {
   "cell_type": "markdown",
   "metadata": {},
   "source": [
    "### Creating SQLite from Pandas"
   ]
  },
  {
   "cell_type": "code",
   "execution_count": 56,
   "metadata": {
    "collapsed": true
   },
   "outputs": [],
   "source": [
    "import sqlite3"
   ]
  },
  {
   "cell_type": "code",
   "execution_count": 57,
   "metadata": {
    "collapsed": true
   },
   "outputs": [],
   "source": [
    "# EXAMPLE\n",
    "\n",
    "# Sample data\n",
    "\n",
    "# df = pd.read_csv('small_data/2013_Gaz_tracts_national.tsv', sep='\\t')\n",
    "# df.columns = [c.strip() for c in fha_by_tract.columns]\n",
    "\n",
    "# Create db connection\n",
    "\n",
    "#db_connection = sqlite3.connect('testdb.sqlite')\n",
    "\n",
    "# Create a database table with the proper types to match the DataFrame types and insert all of the rows.\n",
    "\n",
    "\n",
    "# df.to_sql('table_name', db_connection, if_exists = 'replace', index = False)"
   ]
  },
  {
   "cell_type": "code",
   "execution_count": null,
   "metadata": {
    "collapsed": true
   },
   "outputs": [],
   "source": []
  }
 ],
 "metadata": {
  "kernelspec": {
   "display_name": "Python 2",
   "language": "python",
   "name": "python2"
  },
  "language_info": {
   "codemirror_mode": {
    "name": "ipython",
    "version": 2
   },
   "file_extension": ".py",
   "mimetype": "text/x-python",
   "name": "python",
   "nbconvert_exporter": "python",
   "pygments_lexer": "ipython2",
   "version": "2.7.13"
  }
 },
 "nbformat": 4,
 "nbformat_minor": 2
}
