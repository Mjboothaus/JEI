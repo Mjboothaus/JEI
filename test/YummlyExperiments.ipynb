{
 "cells": [
  {
   "cell_type": "code",
   "execution_count": null,
   "metadata": {
    "collapsed": true
   },
   "outputs": [],
   "source": [
    "import yummly\n",
    "import requests\n",
    "import ujson as uj\n",
    "\n",
    "\n",
    "# default option values\n",
    "TIMEOUT = 15.0\n",
    "RETRIES = 2\n",
    "\n",
    "# Yummly mjboothaus Account: Hackathon Plan - Access granted 24 July 2017\n",
    "\n",
    "API_ID = 'b4f167ed'\n",
    "API_KEY = 'f69184af19beb4b76e7b7b1984046581'"
   ]
  }
 ],
 "metadata": {
  "kernelspec": {
   "display_name": "Python 2",
   "language": "python",
   "name": "python2"
  },
  "language_info": {
   "codemirror_mode": {
    "name": "ipython",
    "version": 2
   },
   "file_extension": ".py",
   "mimetype": "text/x-python",
   "name": "python",
   "nbconvert_exporter": "python",
   "pygments_lexer": "ipython2",
   "version": "2.7.6"
  }
 },
 "nbformat": 4,
 "nbformat_minor": 0
}
